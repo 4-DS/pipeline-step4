{
 "cells": [
  {
   "cell_type": "code",
   "execution_count": null,
   "id": "870a1090-f4ae-45a0-aa93-0960f5c6478d",
   "metadata": {},
   "outputs": [],
   "source": [
    "%load_ext autoreload\n",
    "%autoreload 2"
   ]
  },
  {
   "cell_type": "code",
   "execution_count": null,
   "id": "453c78e8-6822-4123-bf9d-ed1ae9dd7bea",
   "metadata": {
    "tags": [
     "params"
    ]
   },
   "outputs": [],
   "source": [
    "#2. specify parameters\n",
    "pipeline_params={\n",
    "    \"X\": \"something\"\n",
    "}\n",
    "step_params={\n",
    "    \"X\": \"something_else\"\n",
    "}\n",
    "substep_params={\n",
    "    \"param1\":\"None1\",\n",
    "    \"param2\":\"None2\"}"
   ]
  },
  {
   "cell_type": "code",
   "execution_count": null,
   "id": "f3818420-6085-43ea-b97e-578742794e1e",
   "metadata": {
    "tags": []
   },
   "outputs": [],
   "source": [
    "#3 define substep interface\n",
    "from sinara.substep import NotebookSubstep, default_param_values, get_user, ENV_NAME, PIPELINE_NAME, ZONE_NAME, STEP_NAME, RUN_ID, ENTITY_NAME, ENTITY_PATH, SUBSTEP_NAME\n",
    "\n",
    "substep = NotebookSubstep(pipeline_params, step_params, substep_params, **default_param_values(\"params/step_params.json\"))\n",
    "\n",
    "substep.interface(\n",
    "   \n",
    "    inputs =\n",
    "    [\n",
    "        { STEP_NAME: \"step2\", ENTITY_NAME: \"entityD\" },\n",
    "        { STEP_NAME: \"step2\", ENTITY_NAME: \"entityE\" },\n",
    "        { STEP_NAME: \"step3\", ENTITY_NAME: \"entityF\" }\n",
    "    ],\n",
    "    outputs = \n",
    "    [\n",
    "        { ENTITY_NAME: \"entityG\" },\n",
    "        { ENTITY_NAME: \"entityH\" }\n",
    "    ],\n",
    "    custom_outputs = \n",
    "    [\n",
    "        { ENTITY_NAME: \"custom_data\", ENTITY_PATH: f\"/data/home/{get_user()}/custom_output_data\" }\n",
    "    ]\n",
    ")\n",
    "\n",
    "substep.print_interface_info()\n",
    "\n",
    "substep.exit_in_visualize_mode()"
   ]
  },
  {
   "cell_type": "code",
   "execution_count": null,
   "id": "55e950c3-3151-4daf-9b98-83d3aebe216d",
   "metadata": {},
   "outputs": [],
   "source": [
    "#4 run spark\n",
    "from sinara.spark import SinaraSpark\n",
    "\n",
    "spark = SinaraSpark.run_session(0)\n",
    "SinaraSpark.ui_url()"
   ]
  },
  {
   "cell_type": "code",
   "execution_count": null,
   "id": "70b2d9b3-051c-424c-beec-9da8f177b4ed",
   "metadata": {},
   "outputs": [],
   "source": [
    "#5 read inputs \n",
    "prev_step2_inputs = substep.inputs(step_name=\"step2\")\n",
    "\n",
    "dfD = spark.read.parquet(prev_step2_inputs.entityD).to_pandas_on_spark()\n",
    "dfE = spark.read.parquet(prev_step2_inputs.entityE).to_pandas_on_spark()\n",
    "\n",
    "prev_step3_inputs = substep.inputs(step_name=\"step3\")\n",
    "\n",
    "dfF = spark.read.parquet(prev_step3_inputs.entityF).to_pandas_on_spark()"
   ]
  },
  {
   "cell_type": "code",
   "execution_count": null,
   "id": "04f8c516-079f-4473-8564-1cf66344872c",
   "metadata": {},
   "outputs": [],
   "source": [
    "#6 make something to create artifacts\n",
    "\n",
    "dfG = dfD.to_spark()\n",
    "dfH = dfE.to_spark()\n",
    "dfCustom = dfF.to_spark()"
   ]
  },
  {
   "cell_type": "code",
   "execution_count": null,
   "id": "47c68c69-46d1-48d0-a239-fac8bf36c6fa",
   "metadata": {},
   "outputs": [],
   "source": [
    "#7 write outputs\n",
    "outputs = substep.outputs()\n",
    "\n",
    "dfG.write.parquet(outputs.entityG, mode='overwrite')\n",
    "dfH.write.parquet(outputs.entityH, mode='overwrite')\n",
    "\n",
    "custom_outputs = substep.custom_outputs()\n",
    "\n",
    "dfCustom.write.parquet(custom_outputs.custom_data, mode='overwrite')"
   ]
  },
  {
   "cell_type": "code",
   "execution_count": null,
   "id": "82ef2430-57f2-42f4-a435-f50e1edd2c0b",
   "metadata": {},
   "outputs": [],
   "source": [
    "#8 stop spark\n",
    "SinaraSpark.stop_session()"
   ]
  }
 ],
 "metadata": {
  "kernelspec": {
   "display_name": "Python 3 (ipykernel)",
   "language": "python",
   "name": "python3"
  },
  "language_info": {
   "codemirror_mode": {
    "name": "ipython",
    "version": 3
   },
   "file_extension": ".py",
   "mimetype": "text/x-python",
   "name": "python",
   "nbconvert_exporter": "python",
   "pygments_lexer": "ipython3",
   "version": "3.10.8"
  }
 },
 "nbformat": 4,
 "nbformat_minor": 5
}
